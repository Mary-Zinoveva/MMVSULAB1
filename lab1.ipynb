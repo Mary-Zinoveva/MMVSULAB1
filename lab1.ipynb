{
  "cells": [
    {
      "cell_type": "markdown",
      "metadata": {
        "id": "view-in-github",
        "colab_type": "text"
      },
      "source": [
        "<a href=\"https://colab.research.google.com/github/Mary-Zinoveva/MMVSULAB1/blob/main/%D0%94%D0%BE%D0%B1%D1%80%D0%BE_%D0%BF%D0%BE%D0%B6%D0%B0%D0%BB%D0%BE%D0%B2%D0%B0%D1%82%D1%8C_%D0%B2_Colaboratory!.ipynb\" target=\"_parent\"><img src=\"https://colab.research.google.com/assets/colab-badge.svg\" alt=\"Open In Colab\"/></a>"
      ]
    },
    {
      "cell_type": "markdown",
      "source": [
        "# Лабораторная работа №1\n"
      ],
      "metadata": {
        "id": "X8wmJHNaXv_5"
      }
    },
    {
      "cell_type": "markdown",
      "source": [
        "Построение математической модели x'=kx"
      ],
      "metadata": {
        "id": "3JoMHgUnbMMF"
      }
    },
    {
      "cell_type": "code",
      "source": [
        "import matplotlib.pyplot as plt\n",
        "import numpy as np\n",
        "from scipy.integrate import odeint\n",
        "\n",
        "#Определяем функцию, задающую значения параметрам дифференциального уравнения, определяем вид диффура\n",
        "def dydt(y,t):\n",
        "  k=0.5\n",
        "  return k*y\n",
        "\n",
        "#Создаем область построения\n",
        "t=np.linspace(0,10,100)\n",
        "\n",
        "#решаем диффур, обозначаем функцию решения solve\n",
        "solve=odeint(dydt, y0=1, t=t)\n",
        "solve=solve.flatten()\n",
        "\n",
        "#Строим график мат.модели\n",
        "%matplotlib inline\n",
        "plt.plot(t, solve, label=r\"$x'=kx$\")\n",
        "plt.grid(True)\n",
        "plt.legend()\n",
        "plt.show()"
      ],
      "metadata": {
        "colab": {
          "base_uri": "https://localhost:8080/",
          "height": 265
        },
        "id": "5hbNyue0YRK4",
        "outputId": "679188ed-ba0c-4136-ae48-308fbf1bf5a2"
      },
      "execution_count": 33,
      "outputs": [
        {
          "output_type": "display_data",
          "data": {
            "text/plain": [
              "<Figure size 432x288 with 1 Axes>"
            ],
            "image/png": "[encoded data removed]"
          },
          "metadata": {
            "needs_background": "light"
          }
        }
      ]
    },
    {
      "cell_type": "markdown",
      "source": [
        "Построение математической модели x'=k(x)x, где k(x)=ax-b "
      ],
      "metadata": {
        "id": "MX6pJHm0bwIR"
      }
    },
    {
      "cell_type": "code",
      "source": [
        "import matplotlib.pyplot as plt\n",
        "import numpy as np\n",
        "from scipy.integrate import odeint\n",
        "\n",
        "#Определяем функцию, задающую значения параметрам дифференциального уравнения, определяем вид диффура\n",
        "def dydt(y,t):\n",
        "  a=1\n",
        "  b=1\n",
        "  return (a*y-b)*y\n",
        "\n",
        "#Создаем область построения\n",
        "t=np.linspace(0,10,100)\n",
        "\n",
        "#решаем диффур, обозначаем функцию решения solve\n",
        "solve=odeint(dydt, y0=1, t=t)\n",
        "solve=solve.flatten()\n",
        "\n",
        "#Строим график мат.модели\n",
        "%matplotlib inline\n",
        "plt.plot(t, solve, label=r\"$x'=k(x)x$\")\n",
        "plt.grid(True)\n",
        "plt.legend()\n",
        "plt.show()"
      ],
      "metadata": {
        "colab": {
          "base_uri": "https://localhost:8080/",
          "height": 265
        },
        "id": "KjZ8jytqbvXg",
        "outputId": "00b35c7a-f74e-4c09-f1f3-3b83b721f3e0"
      },
      "execution_count": 32,
      "outputs": [
        {
          "output_type": "display_data",
          "data": {
            "text/plain": [
              "<Figure size 432x288 with 1 Axes>"
            ],
            "image/png": "[encoded data removed]"
          },
          "metadata": {
            "needs_background": "light"
          }
        }
      ]
    },
    {
      "cell_type": "markdown",
      "source": [
        "Построение математической модели x'=k(x)x-c\n"
      ],
      "metadata": {
        "id": "80gxGwYqhnv2"
      }
    },
    {
      "cell_type": "code",
      "source": [
        "import matplotlib.pyplot as plt\n",
        "import numpy as np\n",
        "from scipy.integrate import odeint\n",
        "\n",
        "#Определяем функцию, задающую значения параметрам дифференциального уравнения, определяем вид диффура\n",
        "def dydt(y,t):\n",
        "  a=1\n",
        "  b=1\n",
        "  c=1\n",
        "  return (a*y-b)*y-c\n",
        "#Создаем область построения\n",
        "t=np.linspace(0,10,100)\n",
        "#решаем диффур, обозначаем функцию решения solve\n",
        "solve=odeint(dydt, y0=1, t=t)\n",
        "solve=solve.flatten()\n",
        "#Строим график мат.модели\n",
        "%matplotlib inline\n",
        "plt.plot(t, solve, label=r\"$x'=k(x)x-c$\")\n",
        "plt.grid(True)\n",
        "plt.legend()\n",
        "plt.show()"
      ],
      "metadata": {
        "colab": {
          "base_uri": "https://localhost:8080/",
          "height": 265
        },
        "id": "UCz16Hq6ewX0",
        "outputId": "75232f39-d069-4f00-93ba-561fb89938ae"
      },
      "execution_count": 31,
      "outputs": [
        {
          "output_type": "display_data",
          "data": {
            "text/plain": [
              "<Figure size 432x288 with 1 Axes>"
            ],
            "image/png": "[encoded data removed]"
          },
          "metadata": {
            "needs_background": "light"
          }
        }
      ]
    },
    {
      "cell_type": "markdown",
      "source": [
        "Построение математической модели x'=k(x)x-c(x)"
      ],
      "metadata": {
        "id": "-fUUnV6Uh-rt"
      }
    },
    {
      "cell_type": "code",
      "source": [
        "import matplotlib.pyplot as plt\n",
        "import numpy as np\n",
        "from scipy.integrate import odeint\n",
        "#Определяем функцию, задающую значения параметрам дифференциального уравнения, определяем вид диффура\n",
        "def dydt(y,t):\n",
        "  a=1\n",
        "  b=1\n",
        "  c1=1\n",
        "  c2=1\n",
        "  return (a*y-b)*y-(c1*y-c2)\n",
        "#Создаем область построения\n",
        "t=np.linspace(0,10,100)\n",
        "#решаем диффур, обозначаем функцию решения solve\n",
        "solve=odeint(dydt, y0=1, t=t)\n",
        "solve=solve.flatten()\n",
        "#Строим график мат.модели\n",
        "%matplotlib inline\n",
        "plt.plot(t, solve, label=r\"$x'=k(x)x-c(x)$\")\n",
        "plt.grid(True)\n",
        "plt.legend()\n",
        "plt.show()"
      ],
      "metadata": {
        "colab": {
          "base_uri": "https://localhost:8080/",
          "height": 265
        },
        "id": "D88sZ6kYe4AL",
        "outputId": "e5d85424-8e9c-4130-a9a3-611a499d66b5"
      },
      "execution_count": 27,
      "outputs": [
        {
          "output_type": "display_data",
          "data": {
            "text/plain": [
              "<Figure size 432x288 with 1 Axes>"
            ],
            "image/png": "[encoded data removed]"
          },
          "metadata": {
            "needs_background": "light"
          }
        }
      ]
    }
  ],
  "metadata": {
    "colab": {
      "name": "Добро пожаловать в Colaboratory!",
      "toc_visible": true,
      "provenance": [],
      "include_colab_link": true
    },
    "kernelspec": {
      "display_name": "Python 3",
      "name": "python3"
    }
  },
  "nbformat": 4,
  "nbformat_minor": 0
}
